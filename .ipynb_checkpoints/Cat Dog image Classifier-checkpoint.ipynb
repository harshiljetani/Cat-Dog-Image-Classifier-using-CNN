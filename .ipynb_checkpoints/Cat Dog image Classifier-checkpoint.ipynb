{
 "cells": [
  {
   "cell_type": "code",
   "execution_count": 1,
   "metadata": {},
   "outputs": [],
   "source": [
    "import numpy as np\n",
    "import pandas as pd\n",
    "import matplotlib.pyplot as plt\n",
    "import os\n",
    "\n",
    "%matplotlib inline"
   ]
  },
  {
   "cell_type": "code",
   "execution_count": 2,
   "metadata": {},
   "outputs": [],
   "source": [
    "import tensorflow as tf\n",
    "from tensorflow import keras"
   ]
  },
  {
   "cell_type": "code",
   "execution_count": 3,
   "metadata": {},
   "outputs": [],
   "source": [
    "train_dir = r'Dataset/train'\n",
    "validation_dir = r'Dataset/test'\n",
    "test_dir = r'Dataset/validation'"
   ]
  },
  {
   "cell_type": "markdown",
   "metadata": {},
   "source": [
    "## Data Preprocessing"
   ]
  },
  {
   "cell_type": "code",
   "execution_count": 4,
   "metadata": {},
   "outputs": [
    {
     "name": "stderr",
     "output_type": "stream",
     "text": [
      "Using TensorFlow backend.\n"
     ]
    }
   ],
   "source": [
    "from keras.preprocessing.image import ImageDataGenerator"
   ]
  },
  {
   "cell_type": "code",
   "execution_count": 5,
   "metadata": {},
   "outputs": [
    {
     "name": "stdout",
     "output_type": "stream",
     "text": [
      "Found 2000 images belonging to 2 classes.\n",
      "Found 1000 images belonging to 2 classes.\n"
     ]
    }
   ],
   "source": [
    "#generating batches for image data\n",
    "\n",
    "train_datagen = ImageDataGenerator(rescale=1./255)\n",
    "test_datagen = ImageDataGenerator(rescale=1./255)\n",
    "\n",
    "train_generator = train_datagen.flow_from_directory( #we are using data from directory (dataset folder)\n",
    "    train_dir,\n",
    "    target_size=(150,150),\n",
    "    batch_size=20,\n",
    "    class_mode='binary')\n",
    "\n",
    "validation_generator = test_datagen.flow_from_directory( #we are using data from directory (dataset folder)\n",
    "    validation_dir,\n",
    "    target_size=(150,150),\n",
    "    batch_size=20,\n",
    "    class_mode='binary')"
   ]
  },
  {
   "cell_type": "code",
   "execution_count": 6,
   "metadata": {},
   "outputs": [],
   "source": [
    "from tensorflow.keras import layers,models"
   ]
  },
  {
   "cell_type": "markdown",
   "metadata": {},
   "source": [
    "## Creating Model"
   ]
  },
  {
   "cell_type": "code",
   "execution_count": 7,
   "metadata": {},
   "outputs": [],
   "source": [
    "#sequential Model with 4 Conv2D layers with Max pooling layers,1 flattern layer and 2 Dense Layers\n",
    "\n",
    "model=models.Sequential()\n",
    "\n",
    "#Conv2D(filters,window dimension for filter,activation, input shape)\n",
    "model.add(layers.Conv2D(32,(3,3),activation='relu',input_shape=(150,150,3)))\n",
    "model.add(layers.MaxPool2D((2,2)))\n",
    "\n",
    "model.add(layers.Conv2D(64,(3,3),activation='relu'))\n",
    "model.add(layers.MaxPool2D((2,2)))\n",
    "\n",
    "model.add(layers.Conv2D(128,(3,3),activation='relu'))\n",
    "model.add(layers.MaxPool2D((2,2)))\n",
    "\n",
    "model.add(layers.Conv2D(128,(3,3),activation='relu'))\n",
    "model.add(layers.MaxPool2D((2,2)))\n",
    "\n",
    "model.add(layers.Flatten())\n",
    "\n",
    "#Dense(no. of neurons,activation function)\n",
    "model.add(layers.Dense(512,activation='relu'))\n",
    "\n",
    "model.add(layers.Dense(1,activation='sigmoid'))"
   ]
  },
  {
   "cell_type": "code",
   "execution_count": 8,
   "metadata": {},
   "outputs": [
    {
     "name": "stdout",
     "output_type": "stream",
     "text": [
      "Model: \"sequential\"\n",
      "_________________________________________________________________\n",
      "Layer (type)                 Output Shape              Param #   \n",
      "=================================================================\n",
      "conv2d (Conv2D)              (None, 148, 148, 32)      896       \n",
      "_________________________________________________________________\n",
      "max_pooling2d (MaxPooling2D) (None, 74, 74, 32)        0         \n",
      "_________________________________________________________________\n",
      "conv2d_1 (Conv2D)            (None, 72, 72, 64)        18496     \n",
      "_________________________________________________________________\n",
      "max_pooling2d_1 (MaxPooling2 (None, 36, 36, 64)        0         \n",
      "_________________________________________________________________\n",
      "conv2d_2 (Conv2D)            (None, 34, 34, 128)       73856     \n",
      "_________________________________________________________________\n",
      "max_pooling2d_2 (MaxPooling2 (None, 17, 17, 128)       0         \n",
      "_________________________________________________________________\n",
      "conv2d_3 (Conv2D)            (None, 15, 15, 128)       147584    \n",
      "_________________________________________________________________\n",
      "max_pooling2d_3 (MaxPooling2 (None, 7, 7, 128)         0         \n",
      "_________________________________________________________________\n",
      "flatten (Flatten)            (None, 6272)              0         \n",
      "_________________________________________________________________\n",
      "dense (Dense)                (None, 512)               3211776   \n",
      "_________________________________________________________________\n",
      "dense_1 (Dense)              (None, 1)                 513       \n",
      "=================================================================\n",
      "Total params: 3,453,121\n",
      "Trainable params: 3,453,121\n",
      "Non-trainable params: 0\n",
      "_________________________________________________________________\n"
     ]
    }
   ],
   "source": [
    "model.summary()"
   ]
  },
  {
   "cell_type": "code",
   "execution_count": 9,
   "metadata": {},
   "outputs": [],
   "source": [
    "from tensorflow.keras import optimizers\n",
    "\n",
    "#compiling the model by setting the learning rate and loss parameter\n",
    "model.compile(loss='binary_crossentropy',\n",
    "             optimizer=optimizers.RMSprop(lr=1e-4),#lr=0.001\n",
    "             metrics=['acc'])"
   ]
  },
  {
   "cell_type": "code",
   "execution_count": 10,
   "metadata": {},
   "outputs": [
    {
     "name": "stdout",
     "output_type": "stream",
     "text": [
      "Epoch 1/30\n",
      "100/100 [==============================] - 39s 380ms/step - loss: 0.6954 - acc: 0.5114 - val_loss: 0.6790 - val_acc: 0.6170\n",
      "Epoch 2/30\n",
      "100/100 [==============================] - 40s 401ms/step - loss: 0.6716 - acc: 0.5886 - val_loss: 0.6489 - val_acc: 0.6250\n",
      "Epoch 3/30\n",
      "100/100 [==============================] - 37s 368ms/step - loss: 0.6232 - acc: 0.6699 - val_loss: 0.6035 - val_acc: 0.6840\n",
      "Epoch 4/30\n",
      "100/100 [==============================] - 37s 375ms/step - loss: 0.5727 - acc: 0.6947 - val_loss: 0.5896 - val_acc: 0.6780\n",
      "Epoch 5/30\n",
      "100/100 [==============================] - 37s 373ms/step - loss: 0.5541 - acc: 0.7047 - val_loss: 0.5855 - val_acc: 0.6830\n",
      "Epoch 6/30\n",
      "100/100 [==============================] - 36s 363ms/step - loss: 0.5385 - acc: 0.7392 - val_loss: 0.5806 - val_acc: 0.6850\n",
      "Epoch 7/30\n",
      "100/100 [==============================] - 35s 354ms/step - loss: 0.5136 - acc: 0.7453 - val_loss: 0.5593 - val_acc: 0.7200\n",
      "Epoch 8/30\n",
      "100/100 [==============================] - 36s 359ms/step - loss: 0.4788 - acc: 0.7776 - val_loss: 0.5678 - val_acc: 0.7170\n",
      "Epoch 9/30\n",
      "100/100 [==============================] - 37s 371ms/step - loss: 0.4653 - acc: 0.7847 - val_loss: 0.5550 - val_acc: 0.7140\n",
      "Epoch 10/30\n",
      "100/100 [==============================] - 37s 368ms/step - loss: 0.4156 - acc: 0.8115 - val_loss: 0.5499 - val_acc: 0.7290\n",
      "Epoch 11/30\n",
      "100/100 [==============================] - 37s 374ms/step - loss: 0.3970 - acc: 0.8307 - val_loss: 0.5718 - val_acc: 0.7140\n",
      "Epoch 12/30\n",
      "100/100 [==============================] - 39s 391ms/step - loss: 0.3567 - acc: 0.8493 - val_loss: 0.5942 - val_acc: 0.6990\n",
      "Epoch 13/30\n",
      "100/100 [==============================] - 42s 422ms/step - loss: 0.3432 - acc: 0.8522 - val_loss: 0.5832 - val_acc: 0.7320\n",
      "Epoch 14/30\n",
      "100/100 [==============================] - 43s 429ms/step - loss: 0.3399 - acc: 0.8649 - val_loss: 0.5707 - val_acc: 0.7310\n",
      "Epoch 15/30\n",
      "100/100 [==============================] - 39s 394ms/step - loss: 0.3040 - acc: 0.8742 - val_loss: 0.5923 - val_acc: 0.7360\n",
      "Epoch 16/30\n",
      "100/100 [==============================] - 39s 391ms/step - loss: 0.2867 - acc: 0.8796 - val_loss: 0.6425 - val_acc: 0.7180\n",
      "Epoch 17/30\n",
      "100/100 [==============================] - 39s 385ms/step - loss: 0.2655 - acc: 0.8874 - val_loss: 0.6871 - val_acc: 0.6890\n",
      "Epoch 18/30\n",
      "100/100 [==============================] - 36s 362ms/step - loss: 0.2476 - acc: 0.9041 - val_loss: 0.5876 - val_acc: 0.7500\n",
      "Epoch 19/30\n",
      "100/100 [==============================] - 36s 362ms/step - loss: 0.2202 - acc: 0.9161 - val_loss: 0.6434 - val_acc: 0.7210\n",
      "Epoch 20/30\n",
      "100/100 [==============================] - 36s 364ms/step - loss: 0.2039 - acc: 0.9179 - val_loss: 0.7039 - val_acc: 0.7000\n",
      "Epoch 21/30\n",
      "100/100 [==============================] - 36s 362ms/step - loss: 0.1862 - acc: 0.9327 - val_loss: 0.6893 - val_acc: 0.7220\n",
      "Epoch 22/30\n",
      "100/100 [==============================] - 36s 363ms/step - loss: 0.1641 - acc: 0.9389 - val_loss: 0.6459 - val_acc: 0.7380\n",
      "Epoch 23/30\n",
      "100/100 [==============================] - 36s 364ms/step - loss: 0.1443 - acc: 0.9524 - val_loss: 0.7011 - val_acc: 0.7260\n",
      "Epoch 24/30\n",
      "100/100 [==============================] - 37s 365ms/step - loss: 0.1182 - acc: 0.9648 - val_loss: 0.8127 - val_acc: 0.7060\n",
      "Epoch 25/30\n",
      "100/100 [==============================] - 37s 373ms/step - loss: 0.1101 - acc: 0.9678 - val_loss: 0.7628 - val_acc: 0.7300\n",
      "Epoch 26/30\n",
      "100/100 [==============================] - 37s 366ms/step - loss: 0.1085 - acc: 0.9614 - val_loss: 0.8400 - val_acc: 0.7300\n",
      "Epoch 27/30\n",
      "100/100 [==============================] - 37s 365ms/step - loss: 0.0803 - acc: 0.9787 - val_loss: 0.8383 - val_acc: 0.7250\n",
      "Epoch 28/30\n",
      "100/100 [==============================] - 37s 368ms/step - loss: 0.0692 - acc: 0.9898 - val_loss: 0.8640 - val_acc: 0.7390\n",
      "Epoch 29/30\n",
      "100/100 [==============================] - 37s 368ms/step - loss: 0.0712 - acc: 0.9759 - val_loss: 0.9443 - val_acc: 0.7300\n",
      "Epoch 30/30\n",
      "100/100 [==============================] - 37s 366ms/step - loss: 0.0612 - acc: 0.9779 - val_loss: 0.9121 - val_acc: 0.7280\n"
     ]
    }
   ],
   "source": [
    "history=model.fit(train_generator,\n",
    "                 steps_per_epoch=100,#stopping point for generating the data\n",
    "                 epochs=30,\n",
    "                 validation_data=validation_generator,\n",
    "                 validation_steps=50)#total validation//batch size of validation_generator\n",
    "\n",
    "#batch size in train_generator=20, no. of steps=100 \n",
    "#20 images 1000 times\n",
    "#total 2000 images (total number of training images)"
   ]
  },
  {
   "cell_type": "code",
   "execution_count": 11,
   "metadata": {},
   "outputs": [],
   "source": [
    "hist_csv_file = 'history.csv'\n",
    "with open(hist_csv_file, mode='w') as f:\n",
    "    pd.DataFrame(history.history).to_csv(f)"
   ]
  },
  {
   "cell_type": "code",
   "execution_count": 12,
   "metadata": {},
   "outputs": [],
   "source": [
    "model.save('model.h5')"
   ]
  },
  {
   "cell_type": "code",
   "execution_count": 14,
   "metadata": {},
   "outputs": [
    {
     "data": {
      "image/png": "[encoded data removed]",
      "text/plain": [
       "<Figure size 576x360 with 1 Axes>"
      ]
     },
     "metadata": {
      "needs_background": "light"
     },
     "output_type": "display_data"
    }
   ],
   "source": [
    "# pd.DataFrame(history.history).plot(figsize=(8,5))\n",
    "\n",
    "pd.read_csv('history.csv',index_col=0).plot(figsize=(8,5))\n",
    "plt.gca().set_ylim(0,1)\n",
    "plt.grid(True)\n",
    "\n",
    "\n"
   ]
  },
  {
   "cell_type": "markdown",
   "metadata": {},
   "source": [
    "Increasing gap between accuracy and validation accuracy shows overfitting"
   ]
  },
  {
   "cell_type": "code",
   "execution_count": null,
   "metadata": {},
   "outputs": [],
   "source": []
  }
 ],
 "metadata": {
  "kernelspec": {
   "display_name": "Python 3",
   "language": "python",
   "name": "python3"
  },
  "language_info": {
   "codemirror_mode": {
    "name": "ipython",
    "version": 3
   },
   "file_extension": ".py",
   "mimetype": "text/x-python",
   "name": "python",
   "nbconvert_exporter": "python",
   "pygments_lexer": "ipython3",
   "version": "3.7.6"
  }
 },
 "nbformat": 4,
 "nbformat_minor": 4
}
