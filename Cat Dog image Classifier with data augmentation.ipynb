{
 "cells": [
  {
   "cell_type": "code",
   "execution_count": 1,
   "metadata": {},
   "outputs": [],
   "source": [
    "import numpy as np\n",
    "import pandas as pd\n",
    "import matplotlib.pyplot as plt\n",
    "import os\n",
    "\n",
    "%matplotlib inline"
   ]
  },
  {
   "cell_type": "code",
   "execution_count": 2,
   "metadata": {},
   "outputs": [],
   "source": [
    "import tensorflow as tf\n",
    "from tensorflow import keras"
   ]
  },
  {
   "cell_type": "code",
   "execution_count": 2,
   "metadata": {},
   "outputs": [],
   "source": [
    "train_dir = r'Dataset/train'\n",
    "validation_dir = r'Dataset/test'\n",
    "test_dir = r'Dataset/validation'"
   ]
  },
  {
   "cell_type": "markdown",
   "metadata": {},
   "source": [
    "## Data Preprocessing"
   ]
  },
  {
   "cell_type": "code",
   "execution_count": 4,
   "metadata": {},
   "outputs": [
    {
     "name": "stderr",
     "output_type": "stream",
     "text": [
      "Using TensorFlow backend.\n"
     ]
    }
   ],
   "source": [
    "from keras.preprocessing.image import ImageDataGenerator"
   ]
  },
  {
   "cell_type": "markdown",
   "metadata": {},
   "source": [
    "Augmenting the training data"
   ]
  },
  {
   "cell_type": "code",
   "execution_count": 5,
   "metadata": {},
   "outputs": [
    {
     "name": "stdout",
     "output_type": "stream",
     "text": [
      "Found 2000 images belonging to 2 classes.\n",
      "Found 1000 images belonging to 2 classes.\n"
     ]
    }
   ],
   "source": [
    "#generating batches for image data\n",
    "\n",
    "train_datagen = ImageDataGenerator(rescale=1./255,\n",
    "                                  rotation_range=40,\n",
    "                                  height_shift_range=0.2,\n",
    "                                  width_shift_range=0.2,\n",
    "                                  shear_range=0.2,\n",
    "                                  zoom_range=0.2,\n",
    "                                  horizontal_flip=True)\n",
    "\n",
    "test_datagen = ImageDataGenerator(rescale=1./255)\n",
    "\n",
    "train_generator = train_datagen.flow_from_directory( #we are using data from directory (dataset folder)\n",
    "                                                    train_dir,\n",
    "                                                    target_size=(150,150),\n",
    "                                                    batch_size=10,\n",
    "                                                    class_mode='binary')\n",
    "\n",
    "validation_generator = test_datagen.flow_from_directory( #we are using data from directory (dataset folder)\n",
    "                                                    validation_dir,\n",
    "                                                    target_size=(150,150),\n",
    "                                                    batch_size=15,\n",
    "                                                    class_mode='binary')"
   ]
  },
  {
   "cell_type": "code",
   "execution_count": 6,
   "metadata": {},
   "outputs": [],
   "source": [
    "from tensorflow.keras import layers,models"
   ]
  },
  {
   "cell_type": "markdown",
   "metadata": {},
   "source": [
    "## Creating Model"
   ]
  },
  {
   "cell_type": "code",
   "execution_count": 7,
   "metadata": {},
   "outputs": [],
   "source": [
    "#sequential Model with 4 Conv2D layers with Max pooling layers,1 flattern layer and 2 Dense Layers\n",
    "\n",
    "model=models.Sequential()\n",
    "\n",
    "#Conv2D(filters,window dimension for filter,activation, input shape)\n",
    "model.add(layers.Conv2D(32,(3,3),activation='relu',input_shape=(150,150,3)))\n",
    "model.add(layers.MaxPool2D((2,2)))\n",
    "\n",
    "model.add(layers.Conv2D(64,(3,3),activation='relu'))\n",
    "model.add(layers.MaxPool2D((2,2)))\n",
    "\n",
    "model.add(layers.Conv2D(128,(3,3),activation='relu'))\n",
    "model.add(layers.MaxPool2D((2,2)))\n",
    "\n",
    "model.add(layers.Conv2D(128,(3,3),activation='relu'))\n",
    "model.add(layers.MaxPool2D((2,2)))\n",
    "\n",
    "model.add(layers.Flatten())\n",
    "model.add(layers.Dropout(0.5))\n",
    "#Dense(no. of neurons,activation function)\n",
    "model.add(layers.Dense(512,activation='relu'))\n",
    "\n",
    "model.add(layers.Dense(1,activation='sigmoid'))"
   ]
  },
  {
   "cell_type": "code",
   "execution_count": 8,
   "metadata": {},
   "outputs": [
    {
     "name": "stdout",
     "output_type": "stream",
     "text": [
      "Model: \"sequential\"\n",
      "_________________________________________________________________\n",
      "Layer (type)                 Output Shape              Param #   \n",
      "=================================================================\n",
      "conv2d (Conv2D)              (None, 148, 148, 32)      896       \n",
      "_________________________________________________________________\n",
      "max_pooling2d (MaxPooling2D) (None, 74, 74, 32)        0         \n",
      "_________________________________________________________________\n",
      "conv2d_1 (Conv2D)            (None, 72, 72, 64)        18496     \n",
      "_________________________________________________________________\n",
      "max_pooling2d_1 (MaxPooling2 (None, 36, 36, 64)        0         \n",
      "_________________________________________________________________\n",
      "conv2d_2 (Conv2D)            (None, 34, 34, 128)       73856     \n",
      "_________________________________________________________________\n",
      "max_pooling2d_2 (MaxPooling2 (None, 17, 17, 128)       0         \n",
      "_________________________________________________________________\n",
      "conv2d_3 (Conv2D)            (None, 15, 15, 128)       147584    \n",
      "_________________________________________________________________\n",
      "max_pooling2d_3 (MaxPooling2 (None, 7, 7, 128)         0         \n",
      "_________________________________________________________________\n",
      "flatten (Flatten)            (None, 6272)              0         \n",
      "_________________________________________________________________\n",
      "dropout (Dropout)            (None, 6272)              0         \n",
      "_________________________________________________________________\n",
      "dense (Dense)                (None, 512)               3211776   \n",
      "_________________________________________________________________\n",
      "dense_1 (Dense)              (None, 1)                 513       \n",
      "=================================================================\n",
      "Total params: 3,453,121\n",
      "Trainable params: 3,453,121\n",
      "Non-trainable params: 0\n",
      "_________________________________________________________________\n"
     ]
    }
   ],
   "source": [
    "model.summary()"
   ]
  },
  {
   "cell_type": "code",
   "execution_count": 9,
   "metadata": {},
   "outputs": [],
   "source": [
    "from tensorflow.keras import optimizers\n",
    "\n",
    "#compiling the model by setting the learning rate and loss parameter\n",
    "model.compile(loss='binary_crossentropy',\n",
    "             optimizer=optimizers.RMSprop(lr=1e-4),#lr=0.001\n",
    "             metrics=['acc'])"
   ]
  },
  {
   "cell_type": "code",
   "execution_count": 10,
   "metadata": {},
   "outputs": [],
   "source": [
    "from tensorflow.keras.callbacks import EarlyStopping\n",
    "\n",
    "es = EarlyStopping(monitor='val_loss', mode='min', patience=25)"
   ]
  },
  {
   "cell_type": "code",
   "execution_count": 11,
   "metadata": {},
   "outputs": [
    {
     "name": "stdout",
     "output_type": "stream",
     "text": [
      "Epoch 1/100\n",
      "150/150 [==============================] - 29s 189ms/step - loss: 0.6983 - acc: 0.4995 - val_loss: 0.6861 - val_acc: 0.5347\n",
      "Epoch 2/100\n",
      "150/150 [==============================] - 29s 191ms/step - loss: 0.6886 - acc: 0.5267 - val_loss: 0.6700 - val_acc: 0.5947\n",
      "Epoch 3/100\n",
      "150/150 [==============================] - 29s 195ms/step - loss: 0.6789 - acc: 0.5665 - val_loss: 0.6727 - val_acc: 0.5773\n",
      "Epoch 4/100\n",
      "150/150 [==============================] - 29s 196ms/step - loss: 0.6775 - acc: 0.5578 - val_loss: 0.6538 - val_acc: 0.5920\n",
      "Epoch 5/100\n",
      "150/150 [==============================] - 29s 196ms/step - loss: 0.6519 - acc: 0.6156 - val_loss: 0.6254 - val_acc: 0.6480\n",
      "Epoch 6/100\n",
      "150/150 [==============================] - 30s 198ms/step - loss: 0.6317 - acc: 0.6448 - val_loss: 0.6417 - val_acc: 0.6333\n",
      "Epoch 7/100\n",
      "150/150 [==============================] - 30s 198ms/step - loss: 0.6248 - acc: 0.6535 - val_loss: 0.6076 - val_acc: 0.6707\n",
      "Epoch 8/100\n",
      "150/150 [==============================] - 30s 198ms/step - loss: 0.6144 - acc: 0.6670 - val_loss: 0.6080 - val_acc: 0.6680\n",
      "Epoch 9/100\n",
      "150/150 [==============================] - 30s 198ms/step - loss: 0.5913 - acc: 0.6909 - val_loss: 0.5903 - val_acc: 0.6733\n",
      "Epoch 10/100\n",
      "150/150 [==============================] - 30s 200ms/step - loss: 0.6088 - acc: 0.6666 - val_loss: 0.5692 - val_acc: 0.7040\n",
      "Epoch 11/100\n",
      "150/150 [==============================] - 30s 201ms/step - loss: 0.5943 - acc: 0.6854 - val_loss: 0.5895 - val_acc: 0.6933\n",
      "Epoch 12/100\n",
      "150/150 [==============================] - 30s 201ms/step - loss: 0.5938 - acc: 0.6765 - val_loss: 0.6764 - val_acc: 0.5787\n",
      "Epoch 13/100\n",
      "150/150 [==============================] - 32s 210ms/step - loss: 0.6071 - acc: 0.6608 - val_loss: 0.5981 - val_acc: 0.6920\n",
      "Epoch 14/100\n",
      "150/150 [==============================] - 30s 201ms/step - loss: 0.5871 - acc: 0.6926 - val_loss: 0.6224 - val_acc: 0.6627\n",
      "Epoch 15/100\n",
      "150/150 [==============================] - 30s 202ms/step - loss: 0.5631 - acc: 0.7042 - val_loss: 0.5857 - val_acc: 0.6987\n",
      "Epoch 16/100\n",
      "150/150 [==============================] - 30s 202ms/step - loss: 0.5534 - acc: 0.7168 - val_loss: 0.5690 - val_acc: 0.7200\n",
      "Epoch 17/100\n",
      "150/150 [==============================] - 31s 203ms/step - loss: 0.5506 - acc: 0.7318 - val_loss: 0.5927 - val_acc: 0.7053\n",
      "Epoch 18/100\n",
      "150/150 [==============================] - 31s 203ms/step - loss: 0.5451 - acc: 0.7303 - val_loss: 0.5527 - val_acc: 0.7293\n",
      "Epoch 19/100\n",
      "150/150 [==============================] - 31s 203ms/step - loss: 0.5681 - acc: 0.7083 - val_loss: 0.5545 - val_acc: 0.7067\n",
      "Epoch 20/100\n",
      "150/150 [==============================] - 30s 202ms/step - loss: 0.5366 - acc: 0.7166 - val_loss: 0.5817 - val_acc: 0.7147\n",
      "Epoch 21/100\n",
      "150/150 [==============================] - 31s 203ms/step - loss: 0.5601 - acc: 0.7247 - val_loss: 0.5760 - val_acc: 0.7240\n",
      "Epoch 22/100\n",
      "150/150 [==============================] - 31s 205ms/step - loss: 0.5540 - acc: 0.7174 - val_loss: 0.5732 - val_acc: 0.7293\n",
      "Epoch 23/100\n",
      "150/150 [==============================] - 31s 206ms/step - loss: 0.5393 - acc: 0.7399 - val_loss: 0.5982 - val_acc: 0.7147\n",
      "Epoch 24/100\n",
      "150/150 [==============================] - 31s 205ms/step - loss: 0.5431 - acc: 0.7270 - val_loss: 0.7764 - val_acc: 0.6373\n",
      "Epoch 25/100\n",
      "150/150 [==============================] - 31s 205ms/step - loss: 0.5288 - acc: 0.7274 - val_loss: 0.5737 - val_acc: 0.7093\n",
      "Epoch 26/100\n",
      "150/150 [==============================] - 31s 204ms/step - loss: 0.5377 - acc: 0.7261 - val_loss: 0.5949 - val_acc: 0.7187\n",
      "Epoch 27/100\n",
      "150/150 [==============================] - 31s 205ms/step - loss: 0.5547 - acc: 0.7358 - val_loss: 0.5325 - val_acc: 0.7480\n",
      "Epoch 28/100\n",
      "150/150 [==============================] - 32s 216ms/step - loss: 0.5147 - acc: 0.7550 - val_loss: 0.7805 - val_acc: 0.6360\n",
      "Epoch 29/100\n",
      "150/150 [==============================] - 30s 202ms/step - loss: 0.4933 - acc: 0.7626 - val_loss: 0.5757 - val_acc: 0.7013\n",
      "Epoch 30/100\n",
      "150/150 [==============================] - 31s 203ms/step - loss: 0.5125 - acc: 0.7352 - val_loss: 0.5375 - val_acc: 0.7613\n",
      "Epoch 31/100\n",
      "150/150 [==============================] - 30s 202ms/step - loss: 0.4889 - acc: 0.7586 - val_loss: 0.5223 - val_acc: 0.7573\n",
      "Epoch 32/100\n",
      "150/150 [==============================] - 31s 205ms/step - loss: 0.5107 - acc: 0.7331 - val_loss: 0.5840 - val_acc: 0.7467\n",
      "Epoch 33/100\n",
      "150/150 [==============================] - 31s 205ms/step - loss: 0.4811 - acc: 0.7568 - val_loss: 0.5454 - val_acc: 0.7413\n",
      "Epoch 34/100\n",
      "150/150 [==============================] - 31s 205ms/step - loss: 0.4988 - acc: 0.7563 - val_loss: 0.6385 - val_acc: 0.7240\n",
      "Epoch 35/100\n",
      "150/150 [==============================] - 31s 205ms/step - loss: 0.5131 - acc: 0.7429 - val_loss: 0.5462 - val_acc: 0.7533\n",
      "Epoch 36/100\n",
      "150/150 [==============================] - 35s 231ms/step - loss: 0.5051 - acc: 0.7660 - val_loss: 0.6300 - val_acc: 0.7320\n",
      "Epoch 37/100\n",
      "150/150 [==============================] - 50s 334ms/step - loss: 0.4940 - acc: 0.7592 - val_loss: 0.5353 - val_acc: 0.7440\n",
      "Epoch 38/100\n",
      "150/150 [==============================] - 34s 227ms/step - loss: 0.4968 - acc: 0.7545 - val_loss: 0.5856 - val_acc: 0.7373\n",
      "Epoch 39/100\n",
      "150/150 [==============================] - 34s 224ms/step - loss: 0.5057 - acc: 0.7631 - val_loss: 0.5365 - val_acc: 0.7427\n",
      "Epoch 40/100\n",
      "150/150 [==============================] - 33s 222ms/step - loss: 0.4864 - acc: 0.7763 - val_loss: 0.5147 - val_acc: 0.7720\n",
      "Epoch 41/100\n",
      "150/150 [==============================] - 33s 222ms/step - loss: 0.4933 - acc: 0.7467 - val_loss: 0.5339 - val_acc: 0.7573\n",
      "Epoch 42/100\n",
      "150/150 [==============================] - 36s 237ms/step - loss: 0.4778 - acc: 0.7653 - val_loss: 0.5218 - val_acc: 0.7613\n",
      "Epoch 43/100\n",
      "150/150 [==============================] - 35s 233ms/step - loss: 0.5179 - acc: 0.7479 - val_loss: 0.7096 - val_acc: 0.6933\n",
      "Epoch 44/100\n",
      "150/150 [==============================] - 35s 234ms/step - loss: 0.4894 - acc: 0.7570 - val_loss: 0.5777 - val_acc: 0.7480\n",
      "Epoch 45/100\n",
      "150/150 [==============================] - 34s 227ms/step - loss: 0.5014 - acc: 0.7656 - val_loss: 0.4972 - val_acc: 0.7680\n",
      "Epoch 46/100\n",
      "150/150 [==============================] - 35s 230ms/step - loss: 0.4872 - acc: 0.7728 - val_loss: 0.5195 - val_acc: 0.7707\n",
      "Epoch 47/100\n",
      "150/150 [==============================] - 35s 235ms/step - loss: 0.4694 - acc: 0.7791 - val_loss: 0.5491 - val_acc: 0.7773\n",
      "Epoch 48/100\n",
      "150/150 [==============================] - 33s 222ms/step - loss: 0.4698 - acc: 0.7818 - val_loss: 0.5020 - val_acc: 0.7707\n",
      "Epoch 49/100\n",
      "150/150 [==============================] - 34s 223ms/step - loss: 0.4846 - acc: 0.7797 - val_loss: 0.5318 - val_acc: 0.7613\n",
      "Epoch 50/100\n",
      "150/150 [==============================] - 35s 233ms/step - loss: 0.4789 - acc: 0.7806 - val_loss: 0.5190 - val_acc: 0.7613\n",
      "Epoch 51/100\n",
      "150/150 [==============================] - 34s 223ms/step - loss: 0.4933 - acc: 0.7662 - val_loss: 0.5839 - val_acc: 0.7520\n",
      "Epoch 52/100\n",
      "150/150 [==============================] - 34s 223ms/step - loss: 0.4697 - acc: 0.7737 - val_loss: 0.5665 - val_acc: 0.7533\n",
      "Epoch 53/100\n",
      "150/150 [==============================] - 34s 226ms/step - loss: 0.4677 - acc: 0.7685 - val_loss: 0.5109 - val_acc: 0.7693\n",
      "Epoch 54/100\n",
      "150/150 [==============================] - 38s 255ms/step - loss: 0.4939 - acc: 0.7709 - val_loss: 0.6004 - val_acc: 0.7547\n",
      "Epoch 55/100\n",
      "150/150 [==============================] - 36s 238ms/step - loss: 0.4603 - acc: 0.7588 - val_loss: 0.5246 - val_acc: 0.7600\n",
      "Epoch 56/100\n",
      "150/150 [==============================] - 35s 236ms/step - loss: 0.4668 - acc: 0.7800 - val_loss: 0.5131 - val_acc: 0.7653\n",
      "Epoch 57/100\n",
      "150/150 [==============================] - 35s 235ms/step - loss: 0.4868 - acc: 0.7652 - val_loss: 0.5082 - val_acc: 0.7547\n",
      "Epoch 58/100\n",
      "150/150 [==============================] - 36s 241ms/step - loss: 0.4069 - acc: 0.8211 - val_loss: 0.4885 - val_acc: 0.7787\n",
      "Epoch 59/100\n",
      "150/150 [==============================] - 35s 233ms/step - loss: 0.4617 - acc: 0.7945 - val_loss: 0.4906 - val_acc: 0.7680\n",
      "Epoch 60/100\n",
      "150/150 [==============================] - 35s 235ms/step - loss: 0.4551 - acc: 0.7874 - val_loss: 0.5676 - val_acc: 0.7320\n"
     ]
    },
    {
     "name": "stdout",
     "output_type": "stream",
     "text": [
      "Epoch 61/100\n",
      "150/150 [==============================] - 35s 232ms/step - loss: 0.4343 - acc: 0.8031 - val_loss: 0.5113 - val_acc: 0.7640\n",
      "Epoch 62/100\n",
      "150/150 [==============================] - 35s 232ms/step - loss: 0.4621 - acc: 0.7996 - val_loss: 0.5495 - val_acc: 0.7733\n",
      "Epoch 63/100\n",
      "150/150 [==============================] - 35s 236ms/step - loss: 0.4245 - acc: 0.8103 - val_loss: 0.4967 - val_acc: 0.7920\n",
      "Epoch 64/100\n",
      "150/150 [==============================] - 35s 236ms/step - loss: 0.4685 - acc: 0.7978 - val_loss: 0.4722 - val_acc: 0.7813\n",
      "Epoch 65/100\n",
      "150/150 [==============================] - 37s 248ms/step - loss: 0.4705 - acc: 0.7647 - val_loss: 0.4628 - val_acc: 0.7800\n",
      "Epoch 66/100\n",
      "150/150 [==============================] - 36s 240ms/step - loss: 0.4458 - acc: 0.7865 - val_loss: 0.4889 - val_acc: 0.7853\n",
      "Epoch 67/100\n",
      "150/150 [==============================] - 36s 237ms/step - loss: 0.4224 - acc: 0.7958 - val_loss: 0.5098 - val_acc: 0.7787\n",
      "Epoch 68/100\n",
      "150/150 [==============================] - 35s 235ms/step - loss: 0.4716 - acc: 0.7813 - val_loss: 0.4544 - val_acc: 0.7907\n",
      "Epoch 69/100\n",
      "150/150 [==============================] - 34s 226ms/step - loss: 0.4332 - acc: 0.8021 - val_loss: 0.5131 - val_acc: 0.7880\n",
      "Epoch 70/100\n",
      "150/150 [==============================] - 34s 228ms/step - loss: 0.4346 - acc: 0.8145 - val_loss: 0.4756 - val_acc: 0.7987\n",
      "Epoch 71/100\n",
      "150/150 [==============================] - 35s 230ms/step - loss: 0.4426 - acc: 0.7973 - val_loss: 0.7323 - val_acc: 0.7107\n",
      "Epoch 72/100\n",
      "150/150 [==============================] - 33s 223ms/step - loss: 0.4631 - acc: 0.7942 - val_loss: 0.5132 - val_acc: 0.7653\n",
      "Epoch 73/100\n",
      "150/150 [==============================] - 34s 224ms/step - loss: 0.4281 - acc: 0.8002 - val_loss: 0.5338 - val_acc: 0.7933\n",
      "Epoch 74/100\n",
      "150/150 [==============================] - 36s 238ms/step - loss: 0.4213 - acc: 0.8032 - val_loss: 0.5328 - val_acc: 0.7667\n",
      "Epoch 75/100\n",
      "150/150 [==============================] - 35s 232ms/step - loss: 0.4226 - acc: 0.7930 - val_loss: 0.5184 - val_acc: 0.7747\n",
      "Epoch 76/100\n",
      "150/150 [==============================] - 36s 237ms/step - loss: 0.4397 - acc: 0.7915 - val_loss: 0.5046 - val_acc: 0.7787\n",
      "Epoch 77/100\n",
      "150/150 [==============================] - 36s 239ms/step - loss: 0.4141 - acc: 0.8172 - val_loss: 0.5889 - val_acc: 0.7933\n",
      "Epoch 78/100\n",
      "150/150 [==============================] - 38s 255ms/step - loss: 0.4342 - acc: 0.7847 - val_loss: 0.4465 - val_acc: 0.8013\n",
      "Epoch 79/100\n",
      "150/150 [==============================] - 32s 215ms/step - loss: 0.4278 - acc: 0.8078 - val_loss: 0.5509 - val_acc: 0.7600\n",
      "Epoch 80/100\n",
      "150/150 [==============================] - 32s 210ms/step - loss: 0.4481 - acc: 0.8200 - val_loss: 0.4639 - val_acc: 0.8147\n",
      "Epoch 81/100\n",
      "150/150 [==============================] - 31s 208ms/step - loss: 0.4466 - acc: 0.7887 - val_loss: 0.5807 - val_acc: 0.7667\n",
      "Epoch 82/100\n",
      "150/150 [==============================] - 31s 209ms/step - loss: 0.4433 - acc: 0.7804 - val_loss: 0.4088 - val_acc: 0.8187\n",
      "Epoch 83/100\n",
      "150/150 [==============================] - 31s 208ms/step - loss: 0.4111 - acc: 0.8116 - val_loss: 0.5563 - val_acc: 0.7653\n",
      "Epoch 84/100\n",
      "150/150 [==============================] - 31s 209ms/step - loss: 0.4216 - acc: 0.8036 - val_loss: 0.6228 - val_acc: 0.7507\n",
      "Epoch 85/100\n",
      "150/150 [==============================] - 31s 206ms/step - loss: 0.4009 - acc: 0.8113 - val_loss: 0.5478 - val_acc: 0.7800\n",
      "Epoch 86/100\n",
      "150/150 [==============================] - 31s 208ms/step - loss: 0.4236 - acc: 0.8120 - val_loss: 0.4707 - val_acc: 0.7867\n",
      "Epoch 87/100\n",
      "150/150 [==============================] - 31s 206ms/step - loss: 0.4206 - acc: 0.8237 - val_loss: 0.4476 - val_acc: 0.8200\n",
      "Epoch 88/100\n",
      "150/150 [==============================] - 31s 205ms/step - loss: 0.4412 - acc: 0.8039 - val_loss: 0.5092 - val_acc: 0.8027\n",
      "Epoch 89/100\n",
      "150/150 [==============================] - 31s 208ms/step - loss: 0.4230 - acc: 0.8163 - val_loss: 0.5707 - val_acc: 0.7667\n",
      "Epoch 90/100\n",
      "150/150 [==============================] - 31s 207ms/step - loss: 0.3806 - acc: 0.8310 - val_loss: 0.9716 - val_acc: 0.6680\n",
      "Epoch 91/100\n",
      "150/150 [==============================] - 31s 208ms/step - loss: 0.4413 - acc: 0.8071 - val_loss: 0.4651 - val_acc: 0.8067\n",
      "Epoch 92/100\n",
      "150/150 [==============================] - 31s 206ms/step - loss: 0.4615 - acc: 0.7897 - val_loss: 0.5180 - val_acc: 0.8080\n",
      "Epoch 93/100\n",
      "150/150 [==============================] - 31s 206ms/step - loss: 0.4367 - acc: 0.7962 - val_loss: 0.5472 - val_acc: 0.7813\n",
      "Epoch 94/100\n",
      "150/150 [==============================] - 31s 206ms/step - loss: 0.3957 - acc: 0.8301 - val_loss: 0.6100 - val_acc: 0.7893\n",
      "Epoch 95/100\n",
      "150/150 [==============================] - 31s 206ms/step - loss: 0.3828 - acc: 0.8348 - val_loss: 0.5025 - val_acc: 0.7973\n",
      "Epoch 96/100\n",
      "150/150 [==============================] - 31s 206ms/step - loss: 0.4137 - acc: 0.8181 - val_loss: 0.5434 - val_acc: 0.7973\n",
      "Epoch 97/100\n",
      "150/150 [==============================] - 31s 209ms/step - loss: 0.4105 - acc: 0.8095 - val_loss: 0.5044 - val_acc: 0.8067\n",
      "Epoch 98/100\n",
      "150/150 [==============================] - 32s 214ms/step - loss: 0.4163 - acc: 0.8152 - val_loss: 0.5333 - val_acc: 0.7800\n",
      "Epoch 99/100\n",
      "150/150 [==============================] - 31s 207ms/step - loss: 0.3935 - acc: 0.8291 - val_loss: 0.5649 - val_acc: 0.7587\n",
      "Epoch 100/100\n",
      "150/150 [==============================] - 31s 205ms/step - loss: 0.4006 - acc: 0.8345 - val_loss: 0.4888 - val_acc: 0.8120\n"
     ]
    }
   ],
   "source": [
    "history=model.fit(train_generator,\n",
    "                 steps_per_epoch=150,#stopping point for generating the data\n",
    "                 epochs=100,\n",
    "                 validation_data=validation_generator,\n",
    "                 validation_steps=50,\n",
    "                 callbacks=[es])#total validation//batch size of validation_generator\n"
   ]
  },
  {
   "cell_type": "code",
   "execution_count": 13,
   "metadata": {},
   "outputs": [],
   "source": [
    "#save history to csv\n",
    "hist_csv_file = 'history(augmented data).csv'\n",
    "with open(hist_csv_file, mode='w') as f:\n",
    "    pd.DataFrame(history.history).to_csv(f)"
   ]
  },
  {
   "cell_type": "code",
   "execution_count": 14,
   "metadata": {},
   "outputs": [],
   "source": [
    "model.save('Augmented Data trained model.h5')"
   ]
  },
  {
   "cell_type": "code",
   "execution_count": 16,
   "metadata": {},
   "outputs": [
    {
     "data": {
      "image/png": "[encoded data removed]",
      "text/plain": [
       "<Figure size 576x360 with 1 Axes>"
      ]
     },
     "metadata": {
      "needs_background": "light"
     },
     "output_type": "display_data"
    }
   ],
   "source": [
    "# pd.DataFrame(history.history).plot(figsize=(8,5))\n",
    "\n",
    "pd.read_csv('history(augmented data).csv',index_col=0).plot(figsize=(8,5))\n",
    "plt.gca().set_ylim(0,1)\n",
    "plt.grid(True)\n"
   ]
  },
  {
   "cell_type": "code",
   "execution_count": 17,
   "metadata": {},
   "outputs": [
    {
     "name": "stdout",
     "output_type": "stream",
     "text": [
      "Found 1000 images belonging to 2 classes.\n"
     ]
    }
   ],
   "source": [
    "test_generator = test_datagen.flow_from_directory(test_dir,\n",
    "                                                 target_size=(150,150),\n",
    "                                                 batch_size=15,\n",
    "                                                 class_mode='binary')"
   ]
  },
  {
   "cell_type": "code",
   "execution_count": 19,
   "metadata": {},
   "outputs": [
    {
     "name": "stdout",
     "output_type": "stream",
     "text": [
      "50/50 [==============================] - 3s 67ms/step - loss: 0.4791 - acc: 0.8080\n"
     ]
    },
    {
     "data": {
      "text/plain": [
       "[0.4790537655353546, 0.8080000281333923]"
      ]
     },
     "execution_count": 19,
     "metadata": {},
     "output_type": "execute_result"
    }
   ],
   "source": [
    "model.evaluate(test_generator,steps=50) #output: [loss,accuracy]"
   ]
  },
  {
   "cell_type": "code",
   "execution_count": null,
   "metadata": {},
   "outputs": [],
   "source": []
  }
 ],
 "metadata": {
  "kernelspec": {
   "display_name": "Python 3",
   "language": "python",
   "name": "python3"
  },
  "language_info": {
   "codemirror_mode": {
    "name": "ipython",
    "version": 3
   },
   "file_extension": ".py",
   "mimetype": "text/x-python",
   "name": "python",
   "nbconvert_exporter": "python",
   "pygments_lexer": "ipython3",
   "version": "3.7.6"
  }
 },
 "nbformat": 4,
 "nbformat_minor": 4
}
